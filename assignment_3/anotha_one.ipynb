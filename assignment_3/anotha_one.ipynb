{
 "cells": [
  {
   "cell_type": "markdown",
   "metadata": {},
   "source": [
    "# Artificial Intelligence\n",
    "# 464/664\n",
    "# Assignment #4\n",
    "\n",
    "## General Directions\n",
    "\n",
    "0. We're using a Jupyter Notebook environment (tutorial available here: https://jupyter-notebook-beginner-guide.readthedocs.io/en/latest/what_is_jupyter.html),\n",
    "1. Read the entire notebook before beginning your work, \n",
    "2. Output format should be exactly as requested, \n",
    "3. Use descriptive variable names,\n",
    "4. Functions should do only one thing,\n",
    "5. Check submission deadline on Gradescope, and\n",
    "6. Submit your notebook using Gradescope."
   ]
  },
  {
   "cell_type": "markdown",
   "metadata": {},
   "source": [
    "## Game Theory\n",
    "\n",
    "In this assignment, we're designing an experiment where two players employ the *Best Response with Inertia* algorithm against each other."
   ]
  },
  {
   "cell_type": "markdown",
   "metadata": {},
   "source": [
    "## Best Response with Inertia Algorithm\n",
    "\n",
    "Here is the outline of the algorithm for each player:\n",
    "\n",
    "\n",
    "```\n",
    "On day zero, play a random action\n",
    "\n",
    "On day t, do one of two things:\n",
    "\n",
    "    * With high probability, play the best response to what your opponent did yesterday, or\n",
    "    * With low probability, be lazy and just do what you did yesterday.\n",
    "```"
   ]
  },
  {
   "cell_type": "markdown",
   "metadata": {},
   "source": [
    "## Game\n",
    "\n",
    "The particular 2x2 game being played is the Stag-Hunt game, with the matrix:\n",
    "\n",
    "\n",
    "|  | | |\n",
    "|---|---|---|\n",
    "|  | S | H |\n",
    "| S | 3, 3 | 0, 2 |\n",
    "| H | 2, 0 | 2, 2 |\n",
    "\n",
    "\n",
    "Player 1 (P1) is the `row` player; Player 2 (P2) is the `col` player."
   ]
  },
  {
   "cell_type": "code",
   "execution_count": 1,
   "metadata": {},
   "outputs": [],
   "source": [
    "import random"
   ]
  },
  {
   "cell_type": "code",
   "execution_count": 2,
   "metadata": {},
   "outputs": [],
   "source": [
    "# The actions available to each player\n",
    "actions_P1 = ['S', 'H']\n",
    "actions_P2 = ['S', 'H']\n",
    "\n",
    "# Store the history\n",
    "history_P1_action, history_P1_utility = [], []\n",
    "history_P2_action, history_P2_utility = [], []"
   ]
  },
  {
   "cell_type": "markdown",
   "metadata": {},
   "source": [
    "<a id=\"get_utility\"></a>\n",
    "## get_utility\n",
    "\n",
    "This function takes a joint action tuple and returns the utility for each player, packaged as a tuple. It is harcoded for the Stag-Hunt game described above.\n",
    "\n",
    "* **a** Tuple: joint action. a could be ('S', 'H'), for instance, which would signify that P1 has chosen to do 'S' and P2 has chosen to do 'H'.\n",
    "\n",
    "\n",
    "**returns** \n",
    "\n",
    "* **utility** Tuple: the utility for each player as (utility of P1, utility of P2). For example, if the joint action is ('S', 'H'), the returned value is (0, 2) -- 0 for P1, 2 for P2. "
   ]
  },
  {
   "cell_type": "code",
   "execution_count": 3,
   "metadata": {},
   "outputs": [],
   "source": [
    "def get_utility(a):\n",
    "    if a[0] == 'S' and a[1] == 'S':\n",
    "        return (3, 3)\n",
    "    elif a[0] == 'S' and a[1] == 'H':\n",
    "        return (0, 2)\n",
    "    elif a[0] == 'H' and a[1] == 'S':\n",
    "        return (2, 0)\n",
    "    elif a[0] == 'H' and a[1] == 'H':\n",
    "        return (2, 2)"
   ]
  },
  {
   "attachments": {},
   "cell_type": "markdown",
   "metadata": {},
   "source": [
    "<div style=\"background: lemonchiffon; margin:20px; padding: 20px;\">\n",
    "    <p>\n",
    "        TODO: Help players pick actions based on the <i>Best Response with inertia</i> algorithm, described above (instead of just picking 'S' like they are now). \n",
    "    </p>\n",
    "</div>"
   ]
  },
  {
   "attachments": {},
   "cell_type": "markdown",
   "metadata": {},
   "source": [
    "<a id=\"calculate_action\"></a>\n",
    "## calculate_action\n",
    "This function determines the player's next action. It utilizes the history of the players previous reponses, and the opponent's previous reponses. \n",
    "\n",
    "* **history_P1_action** List: A List containing the previous actions of P1\n",
    "* **history_P2_action** List: A List containing the previous actions of P2\n",
    "* **is_P1** Bool: Is the current player P1\n",
    "* **percent_chance_of_lazy** Int: percent chance that a player will lazily decide to choose their previous action. By default this is set to 1%.\n",
    "\n",
    "**returns** String: Action the Player will Take, either \"S\" or \"H\" representing the choice to hunt Stag or Hare/Bunny-Rabbit"
   ]
  },
  {
   "cell_type": "code",
   "execution_count": 4,
   "metadata": {},
   "outputs": [],
   "source": [
    "def calculate_action(history_P1_action, history_P2_action, is_P1: bool, percent_chance_of_lazy: int=1):\n",
    "    protagonist_history = history_P1_action if is_P1 else history_P2_action\n",
    "    opponent_history =    history_P2_action if is_P1 else history_P1_action\n",
    "    if len(protagonist_history) == 0: \n",
    "        random_action = \"S\" if random.randint(1, 2) == 1 else \"H\"\n",
    "        protagonist_history.append(random_action)\n",
    "        return random_action\n",
    "    if random.randint(1, 100) in set(range(1, percent_chance_of_lazy+1)):   \n",
    "        protagonist_previous_move = protagonist_history[-1]\n",
    "        protagonist_history.append(protagonist_previous_move)\n",
    "        return protagonist_previous_move\n",
    "    else:\n",
    "        opponents_previous_move = opponent_history[-1]\n",
    "        best_reponse_to: dict = {\"S\": \"S\", \"H\": \"H\"}\n",
    "        protagonist_history.append(best_reponse_to[opponents_previous_move])\n",
    "        return best_reponse_to[opponents_previous_move]\n"
   ]
  },
  {
   "cell_type": "markdown",
   "metadata": {},
   "source": [
    "<a id=\"run_experiment\"></a>\n",
    "## run_experiment\n",
    "\n",
    "This functions runs an experiment where two players play the Stag-Hunt game using the Best Response with Inertia algorithm.\n",
    "\n",
    "* **num_trials** Int: The number of trials to run\n",
    "* **num_days** Int: The number of days in each trial\n",
    "* **debug** Bool: If set to True, statements are printed out\n",
    "\n",
    "\n",
    "**returns** \n",
    "\n",
    "None"
   ]
  },
  {
   "cell_type": "code",
   "execution_count": 5,
   "metadata": {},
   "outputs": [],
   "source": [
    "def run_experiment(num_trials, num_days, debug=True):\n",
    "    if debug: print(f\"Trial\\tDay\\tP1\\tP2\\n--------------------------\")    \n",
    "    for trial in range(num_trials):  \n",
    "        if debug: print(f\"--------------------------\")\n",
    "        history_P1_Temp = [] # DONE.\n",
    "        history_P2_Temp = [] # DONE.\n",
    "        for day in range(num_days):\n",
    "            action_P1 = calculate_action(history_P1_Temp, history_P2_Temp, (True))  # DONE.\n",
    "            action_P2 = calculate_action(history_P1_Temp, history_P2_Temp, (False)) # DONE.\n",
    "            utility_P1, utility_P2 = get_utility(tuple((action_P1, action_P2)))\n",
    "            history_P1_action.append(action_P1)\n",
    "            history_P2_action.append(action_P2)\n",
    "            history_P1_utility.append(utility_P1)\n",
    "            history_P2_utility.append(utility_P2)\n",
    "            if debug: print(f\"{trial}\\t{day}\\t{action_P1}\\t{action_P2}\")\n",
    "        "
   ]
  },
  {
   "cell_type": "code",
   "execution_count": 6,
   "metadata": {
    "scrolled": false
   },
   "outputs": [
    {
     "name": "stdout",
     "output_type": "stream",
     "text": [
      "Trial\tDay\tP1\tP2\n",
      "--------------------------\n",
      "--------------------------\n",
      "0\t0\tS\tS\n",
      "0\t1\tS\tS\n",
      "0\t2\tS\tS\n",
      "0\t3\tS\tS\n",
      "0\t4\tS\tS\n",
      "0\t5\tS\tS\n",
      "0\t6\tS\tS\n",
      "0\t7\tS\tS\n",
      "0\t8\tS\tS\n",
      "0\t9\tS\tS\n",
      "--------------------------\n",
      "1\t0\tH\tS\n",
      "1\t1\tS\tS\n",
      "1\t2\tS\tS\n",
      "1\t3\tS\tS\n",
      "1\t4\tS\tS\n",
      "1\t5\tS\tS\n",
      "1\t6\tS\tS\n",
      "1\t7\tS\tS\n",
      "1\t8\tS\tS\n",
      "1\t9\tS\tS\n",
      "--------------------------\n",
      "2\t0\tH\tS\n",
      "2\t1\tS\tS\n",
      "2\t2\tS\tS\n",
      "2\t3\tS\tS\n",
      "2\t4\tS\tS\n",
      "2\t5\tS\tS\n",
      "2\t6\tS\tS\n",
      "2\t7\tS\tS\n",
      "2\t8\tS\tS\n",
      "2\t9\tS\tS\n",
      "--------------------------\n",
      "3\t0\tH\tS\n",
      "3\t1\tS\tS\n",
      "3\t2\tS\tS\n",
      "3\t3\tS\tS\n",
      "3\t4\tS\tS\n",
      "3\t5\tS\tS\n",
      "3\t6\tS\tS\n",
      "3\t7\tS\tS\n",
      "3\t8\tS\tS\n",
      "3\t9\tS\tS\n",
      "--------------------------\n",
      "4\t0\tS\tS\n",
      "4\t1\tS\tS\n",
      "4\t2\tS\tS\n",
      "4\t3\tS\tS\n",
      "4\t4\tS\tS\n",
      "4\t5\tS\tS\n",
      "4\t6\tS\tS\n",
      "4\t7\tS\tS\n",
      "4\t8\tS\tS\n",
      "4\t9\tS\tS\n",
      "--------------------------\n",
      "5\t0\tS\tH\n",
      "5\t1\tH\tH\n",
      "5\t2\tH\tH\n",
      "5\t3\tH\tH\n",
      "5\t4\tH\tH\n",
      "5\t5\tH\tH\n",
      "5\t6\tH\tH\n",
      "5\t7\tH\tH\n",
      "5\t8\tH\tH\n",
      "5\t9\tH\tH\n",
      "--------------------------\n",
      "6\t0\tH\tH\n",
      "6\t1\tH\tH\n",
      "6\t2\tH\tH\n",
      "6\t3\tH\tH\n",
      "6\t4\tH\tH\n",
      "6\t5\tH\tH\n",
      "6\t6\tH\tH\n",
      "6\t7\tH\tH\n",
      "6\t8\tH\tH\n",
      "6\t9\tH\tH\n",
      "--------------------------\n",
      "7\t0\tH\tH\n",
      "7\t1\tH\tH\n",
      "7\t2\tH\tH\n",
      "7\t3\tH\tH\n",
      "7\t4\tH\tH\n",
      "7\t5\tH\tH\n",
      "7\t6\tH\tH\n",
      "7\t7\tH\tH\n",
      "7\t8\tH\tH\n",
      "7\t9\tH\tH\n",
      "--------------------------\n",
      "8\t0\tS\tS\n",
      "8\t1\tS\tS\n",
      "8\t2\tS\tS\n",
      "8\t3\tS\tS\n",
      "8\t4\tS\tS\n",
      "8\t5\tS\tS\n",
      "8\t6\tS\tS\n",
      "8\t7\tS\tS\n",
      "8\t8\tS\tS\n",
      "8\t9\tS\tS\n",
      "--------------------------\n",
      "9\t0\tS\tS\n",
      "9\t1\tS\tS\n",
      "9\t2\tS\tS\n",
      "9\t3\tS\tS\n",
      "9\t4\tS\tS\n",
      "9\t5\tS\tS\n",
      "9\t6\tS\tS\n",
      "9\t7\tS\tS\n",
      "9\t8\tS\tS\n",
      "9\t9\tS\tS\n",
      "--------------------------\n",
      "10\t0\tH\tH\n",
      "10\t1\tH\tH\n",
      "10\t2\tH\tH\n",
      "10\t3\tH\tH\n",
      "10\t4\tH\tH\n",
      "10\t5\tH\tH\n",
      "10\t6\tH\tH\n",
      "10\t7\tH\tH\n",
      "10\t8\tH\tH\n",
      "10\t9\tH\tH\n",
      "--------------------------\n",
      "11\t0\tS\tS\n",
      "11\t1\tS\tS\n",
      "11\t2\tS\tS\n",
      "11\t3\tS\tS\n",
      "11\t4\tS\tS\n",
      "11\t5\tS\tS\n",
      "11\t6\tS\tS\n",
      "11\t7\tS\tS\n",
      "11\t8\tS\tS\n",
      "11\t9\tS\tS\n",
      "--------------------------\n",
      "12\t0\tS\tH\n",
      "12\t1\tH\tH\n",
      "12\t2\tH\tH\n",
      "12\t3\tH\tH\n",
      "12\t4\tH\tH\n",
      "12\t5\tH\tH\n",
      "12\t6\tH\tH\n",
      "12\t7\tH\tH\n",
      "12\t8\tH\tH\n",
      "12\t9\tH\tH\n",
      "--------------------------\n",
      "13\t0\tS\tS\n",
      "13\t1\tS\tS\n",
      "13\t2\tS\tS\n",
      "13\t3\tS\tS\n",
      "13\t4\tS\tS\n",
      "13\t5\tS\tS\n",
      "13\t6\tS\tS\n",
      "13\t7\tS\tS\n",
      "13\t8\tS\tS\n",
      "13\t9\tS\tS\n",
      "--------------------------\n",
      "14\t0\tS\tH\n",
      "14\t1\tH\tH\n",
      "14\t2\tH\tH\n",
      "14\t3\tH\tH\n",
      "14\t4\tH\tH\n",
      "14\t5\tH\tH\n",
      "14\t6\tH\tH\n",
      "14\t7\tH\tH\n",
      "14\t8\tH\tH\n",
      "14\t9\tH\tH\n",
      "--------------------------\n",
      "15\t0\tS\tS\n",
      "15\t1\tS\tS\n",
      "15\t2\tS\tS\n",
      "15\t3\tS\tS\n",
      "15\t4\tS\tS\n",
      "15\t5\tS\tS\n",
      "15\t6\tS\tS\n",
      "15\t7\tS\tS\n",
      "15\t8\tS\tS\n",
      "15\t9\tS\tS\n",
      "--------------------------\n",
      "16\t0\tS\tH\n",
      "16\t1\tH\tH\n",
      "16\t2\tH\tH\n",
      "16\t3\tH\tH\n",
      "16\t4\tH\tH\n",
      "16\t5\tH\tH\n",
      "16\t6\tH\tH\n",
      "16\t7\tH\tH\n",
      "16\t8\tH\tH\n",
      "16\t9\tH\tH\n",
      "--------------------------\n",
      "17\t0\tH\tS\n",
      "17\t1\tS\tS\n",
      "17\t2\tS\tS\n",
      "17\t3\tS\tS\n",
      "17\t4\tS\tS\n",
      "17\t5\tS\tS\n",
      "17\t6\tS\tS\n",
      "17\t7\tS\tS\n",
      "17\t8\tS\tS\n",
      "17\t9\tS\tS\n",
      "--------------------------\n",
      "18\t0\tS\tH\n",
      "18\t1\tH\tH\n",
      "18\t2\tH\tH\n",
      "18\t3\tH\tH\n",
      "18\t4\tH\tH\n",
      "18\t5\tH\tH\n",
      "18\t6\tH\tH\n",
      "18\t7\tH\tH\n",
      "18\t8\tH\tH\n",
      "18\t9\tH\tH\n",
      "--------------------------\n",
      "19\t0\tS\tS\n",
      "19\t1\tS\tS\n",
      "19\t2\tS\tS\n",
      "19\t3\tS\tS\n",
      "19\t4\tS\tS\n",
      "19\t5\tS\tS\n",
      "19\t6\tS\tS\n",
      "19\t7\tS\tS\n",
      "19\t8\tS\tS\n",
      "19\t9\tS\tS\n"
     ]
    }
   ],
   "source": [
    "# Parameters\n",
    "run_experiment(num_trials=20, num_days=10, debug=True)"
   ]
  },
  {
   "attachments": {},
   "cell_type": "markdown",
   "metadata": {},
   "source": [
    "<div style=\"background: lemonchiffon; margin:20px; padding: 20px;\">\n",
    "    <p>\n",
    "        TODO: We're looking for a plot that tells us in which cell(s) in our original Stag-Hunt matrix the agents tend to spend most of their time. Use your favorite visualization method (histogram, heat map, or any other appropriate plot). Another way of looking at this is: we want to visualize the joint action across all days and trials. Using your plot, complete the table below.\n",
    "    </p>\n",
    "</div>"
   ]
  },
  {
   "cell_type": "code",
   "execution_count": 7,
   "metadata": {},
   "outputs": [
    {
     "data": {
      "image/png": "[encoded data removed]",
      "text/plain": [
       "<Figure size 360x360 with 1 Axes>"
      ]
     },
     "metadata": {
      "needs_background": "light"
     },
     "output_type": "display_data"
    }
   ],
   "source": [
    "# Visualization code goes here\n",
    "import seaborn as sns\n",
    "action_pairs = [f\"({history_P1_action[i]}, {history_P2_action[i]})\"for i in range(len(history_P1_action))]\n",
    "utility_pairs = [f\"({history_P1_utility[i]}, {history_P2_utility[i]})\"for i in range(len(history_P2_utility))]\n",
    "plt = sns.displot(data=action_pairs, bins=4, kde=True);\n",
    "plt.set_axis_labels(\"Action Pair\", \"Occurrences\");"
   ]
  },
  {
   "cell_type": "code",
   "execution_count": 8,
   "metadata": {},
   "outputs": [
    {
     "data": {
      "image/png": "[encoded data removed]",
      "text/plain": [
       "<Figure size 432x288 with 1 Axes>"
      ]
     },
     "metadata": {
      "needs_background": "light"
     },
     "output_type": "display_data"
    }
   ],
   "source": [
    "# Alternate Version using Matplotlib instead of Seaborn\n",
    "import matplotlib.pyplot as plt\n",
    "import numpy as np\n",
    "np.random.seed(42);\n",
    "x = np.random.normal(size=1000);\n",
    "plt.ylabel('Occurences');\n",
    "plt.xlabel('Action Pair');\n",
    "plt.hist(action_pairs, density=False, bins=5);"
   ]
  },
  {
   "attachments": {},
   "cell_type": "markdown",
   "metadata": {},
   "source": [
    "| Question | Comment | \n",
    "|------|------|\n",
    "|Where do agents get stuck? | Agents often get stuck choosing (S, S) or (H, H). One common scenario is (S, S), meaning both players cooperate and hunt the Stag as a team. The other common scenario is (H, H), meaning they both defect and choose to hunt Hares/Bunny-Rabbits individually.  <br/> <br> A player chooses a random action, H or S, on Day 0. As a result, sometimes the resulting action is  ALL (S, S) or  ALL (H, H). This is because if the first choice was (S, S), then agents will NEVER \"switch\" choices and will continue to play (S, S), and vice versa for (H, H).  <br/> <br/> In other scenarios, sometimes the resulting action includes (S, H) and/or (H, S) for a little while, before either settling with (S, S) OR (H, H) for the vast majority of games. <br/> <br/> This makes sense intuitively because the algorithm rewards mutual cooperation (both players get utility of 3) and mutual defection (both players get utility of 2). Thus, by random chance, when a player finally \"lazily\" chooses their previous action (low probability), it will finally \"match\" the opponents action. This results in either (S, S) or (H, H). Then both players will (high probability) choose the best response to that previous game, which will be the same pair of actions. This breaks the cycle of \"(S, H), (H, S), (S, H), (H, S), (S, H), (H, S) etc.\" and shows why agents get stuck choosing ALL (S, S) or ALL (H, H) the majority of the time, and (S, H) and (H, S) a minority of the time."
   ]
  },
  {
   "cell_type": "markdown",
   "metadata": {},
   "source": []
  },
  {
   "attachments": {},
   "cell_type": "markdown",
   "metadata": {},
   "source": [
    "## Before You Submit...\n",
    "\n",
    "1. ✅Change the file name to add your name (Last_First_assignment_4),\n",
    "2. ✅Re-read the general instructions provided above, \n",
    "3. ✅Hit \"Kernel\"->\"Restart & Run All\", \n",
    "4. ✅Submit your notebook using Gradescope, and\n",
    "5. ✅Do not submit any other files."
   ]
  },
  {
   "cell_type": "code",
   "execution_count": null,
   "metadata": {},
   "outputs": [],
   "source": []
  }
 ],
 "metadata": {
  "kernelspec": {
   "display_name": "Python 3",
   "language": "python",
   "name": "python3"
  },
  "language_info": {
   "codemirror_mode": {
    "name": "ipython",
    "version": 3
   },
   "file_extension": ".py",
   "mimetype": "text/x-python",
   "name": "python",
   "nbconvert_exporter": "python",
   "pygments_lexer": "ipython3",
   "version": "3.7.6"
  },
  "toc": {
   "colors": {
    "hover_highlight": "#DAA520",
    "navigate_num": "#000000",
    "navigate_text": "#333333",
    "running_highlight": "#FF0000",
    "selected_highlight": "#FFD700",
    "sidebar_border": "#EEEEEE",
    "wrapper_background": "#FFFFFF"
   },
   "moveMenuLeft": true,
   "nav_menu": {
    "height": "192px",
    "width": "252px"
   },
   "navigate_menu": true,
   "number_sections": true,
   "sideBar": true,
   "threshold": 4,
   "toc_cell": false,
   "toc_section_display": "block",
   "toc_window_display": false,
   "widenNotebook": false
  },
  "vscode": {
   "interpreter": {
    "hash": "b0fa6594d8f4cbf19f97940f81e996739fb7646882a419484c72d19e05852a7e"
   }
  }
 },
 "nbformat": 4,
 "nbformat_minor": 4
}
